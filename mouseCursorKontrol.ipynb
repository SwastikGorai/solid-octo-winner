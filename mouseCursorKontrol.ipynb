{
 "cells": [
  {
   "cell_type": "code",
   "execution_count": null,
   "outputs": [],
   "source": [
    "!pip install opencv-python imutils pynput"
   ],
   "metadata": {
    "collapsed": false
   }
  },
  {
   "cell_type": "code",
   "execution_count": null,
   "outputs": [],
   "source": [
    "import cv2\n",
    "import imutils\n",
    "import numpy as np\n",
    "from pynput import mouse"
   ],
   "metadata": {
    "collapsed": false
   }
  },
  {
   "cell_type": "code",
   "execution_count": null,
   "outputs": [],
   "source": [
    "# Constants\n",
    "THRESHOLD = 95\n",
    "ROI_SIZE = 300\n",
    "MIN_ASPECT_RATIO = 0.2\n",
    "MAX_ASPECT_RATIO = 1.8"
   ],
   "metadata": {
    "collapsed": false
   }
  },
  {
   "cell_type": "code",
   "execution_count": null,
   "outputs": [],
   "source": [
    "# Set up webcam and mouse controller\n",
    "cap = cv2.VideoCapture(0)\n",
    "mouse_controller = mouse.Controller()"
   ],
   "metadata": {
    "collapsed": false
   }
  },
  {
   "cell_type": "code",
   "execution_count": null,
   "outputs": [],
   "source": [
    "def detect_hand_gesture(frame):\n",
    "    # Convert the frame to grayscale\n",
    "    gray = cv2.cvtColor(frame, cv2.COLOR_BGR2GRAY)\n",
    "\n",
    "    # Blur the frame to reduce noise\n",
    "    gray = cv2.GaussianBlur(gray, (5, 5), 0)\n",
    "\n",
    "    # Threshold the frame to create a binary image\n",
    "    _, thresh = cv2.threshold(gray, THRESHOLD, 255, cv2.THRESH_BINARY)\n",
    "\n",
    "    # Find contours in the frame\n",
    "    cnts, _ = cv2.findContours(thresh.copy(), cv2.RETR_EXTERNAL, cv2.CHAIN_APPROX_SIMPLE)\n",
    "\n",
    "    # Check if a contour was found\n",
    "    if len(cnts) > 0:\n",
    "        # Find the largest contour\n",
    "        c = max(cnts, key=cv2.contourArea)\n",
    "\n",
    "        # Compute the bounding box for the contour\n",
    "        x, y, w, h = cv2.boundingRect(c)\n",
    "\n",
    "        # Compute the aspect ratio of the bounding box\n",
    "        aspect_ratio = w / float(h)\n",
    "\n",
    "        # Check if the aspect ratio is within the desired range\n",
    "        if MIN_ASPECT_RATIO < aspect_ratio < MAX_ASPECT_RATIO:\n",
    "            # Return True to indicate that a hand gesture was detected\n",
    "            return True\n",
    "\n",
    "    # Return False if no hand gesture was detected\n",
    "    return False\n"
   ],
   "metadata": {
    "collapsed": false
   }
  },
  {
   "cell_type": "markdown",
   "source": [],
   "metadata": {
    "collapsed": false
   }
  },
  {
   "cell_type": "code",
   "execution_count": null,
   "outputs": [],
   "source": [
    "def move_mouse(frame, roi):\n",
    "    # Find the center of the ROI\n",
    "    roii = cv2.cvtColor(roi, cv2.COLOR_BGR2GRAY)\n",
    "    M = cv2.moments(roii)\n",
    "    cx = int(M['m10']/M['m00'])\n",
    "    cy = int(M['m01']/M['m00'])\n",
    "\n",
    "    # Calculate the movement of the mouse based on the ROI's center\n",
    "    dx = cx - ROI_SIZE // 2\n",
    "    dy = cy - ROI_SIZE // 2\n",
    "\n",
    "    # Move the mouse\n",
    "    mouse_controller.move(dx, dy)\n"
   ],
   "metadata": {
    "collapsed": false
   }
  },
  {
   "cell_type": "code",
   "execution_count": null,
   "outputs": [],
   "source": [
    "while True:\n",
    "    # Capture a frame from the webcam\n",
    "    _, frame = cap.read()\n",
    "\n",
    "    # Crop the frame to a ROI centered on the bottom half of the frame\n",
    "    h, w = frame.shape[:2]\n",
    "    roi = frame[h//2:, w//2-ROI_SIZE//2:w//2+ROI_SIZE//2]\n",
    "\n",
    "    # Check if a hand gesture was detected in the ROI\n",
    "    if detect_hand_gesture(roi):\n",
    "        # Move the mouse based on the position of the hand in the ROI\n",
    "        move_mouse(frame, roi)\n",
    "\n",
    "    # Overlay the ROI and the mouse cursor on the frame\n",
    "    frame = cv2.circle(frame, mouse_controller.position, 5, (0, 0, 255), -1)\n",
    "    cv2.rectangle(frame, (w//2-ROI_SIZE//2, h//2), (w//2+ROI_SIZE//2, h), (255, 0, 0), 2)\n",
    "\n",
    "    # Display the frame\n",
    "    cv2.imshow(\"Frame\", frame)\n",
    "\n",
    "\n",
    "    # Check if the user pressed the 'q' key to quit\n",
    "    key = cv2.waitKey(1) & 0xFF\n",
    "    if key == ord(\"q\"):\n",
    "        break\n"
   ],
   "metadata": {
    "collapsed": false
   }
  },
  {
   "cell_type": "code",
   "execution_count": null,
   "outputs": [],
   "source": [],
   "metadata": {
    "collapsed": false
   }
  }
 ],
 "metadata": {
  "kernelspec": {
   "display_name": "Python 3",
   "language": "python",
   "name": "python3"
  },
  "language_info": {
   "codemirror_mode": {
    "name": "ipython",
    "version": 2
   },
   "file_extension": ".py",
   "mimetype": "text/x-python",
   "name": "python",
   "nbconvert_exporter": "python",
   "pygments_lexer": "ipython2",
   "version": "2.7.6"
  }
 },
 "nbformat": 4,
 "nbformat_minor": 0
}
